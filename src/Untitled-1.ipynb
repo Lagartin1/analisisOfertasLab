{
 "cells": [
  {
   "cell_type": "markdown",
   "id": "67e7b052",
   "metadata": {},
   "source": [
    "# Import Required Libraries\n",
    "Import necessary libraries such as pandas, geopandas, matplotlib, and seaborn."
   ]
  },
  {
   "cell_type": "code",
   "execution_count": null,
   "id": "e558a08c",
   "metadata": {},
   "outputs": [],
   "source": [
    "# Import Required Libraries\n",
    "import pandas as pd\n",
    "import geopandas as gpd\n",
    "import matplotlib.pyplot as plt\n",
    "import seaborn as sns"
   ]
  },
  {
   "cell_type": "markdown",
   "id": "346743c7",
   "metadata": {},
   "source": [
    "# Prepare Data for Heatmap\n",
    "Clean and preprocess `df2` to extract relevant columns like 'Comuna' and 'Cantidad_Ofertas'. Merge with a GeoDataFrame containing geographical data for Chilean communes."
   ]
  },
  {
   "cell_type": "code",
   "execution_count": null,
   "id": "31ffbe0a",
   "metadata": {},
   "outputs": [],
   "source": [
    "# Load GeoDataFrame for Chilean communes\n",
    "gdf_comunas = gpd.read_file('/home/tole/PrograCientifica/analisisOfertasLab/scripts/data/geo/13.geojson')\n",
    "\n",
    "# Clean and preprocess df2\n",
    "df2_cleaned = df2[['Comuna', 'Cantidad_Ofertas']].dropna()\n",
    "df2_cleaned['Comuna'] = df2_cleaned['Comuna'].apply(lambda x: x.strip().lower())\n",
    "\n",
    "# Merge df2 with GeoDataFrame\n",
    "gdf_merged = gdf_comunas.merge(df2_cleaned, left_on='NOM_COMUNA', right_on='Comuna', how='left')\n",
    "gdf_merged['Cantidad_Ofertas'] = gdf_merged['Cantidad_Ofertas'].fillna(0)"
   ]
  },
  {
   "cell_type": "markdown",
   "id": "81d14b1a",
   "metadata": {},
   "source": [
    "# Generate Heatmap\n",
    "Use GeoPandas to plot a heatmap of job offers by commune. Customize the color scale and add a legend for better visualization."
   ]
  },
  {
   "cell_type": "code",
   "execution_count": null,
   "id": "0992ee68",
   "metadata": {},
   "outputs": [],
   "source": [
    "# Plot heatmap\n",
    "fig, ax = plt.subplots(1, 1, figsize=(12, 8))\n",
    "gdf_merged.plot(\n",
    "    column='Cantidad_Ofertas',\n",
    "    cmap='YlGnBu',\n",
    "    linewidth=0.8,\n",
    "    ax=ax,\n",
    "    edgecolor='0.8',\n",
    "    legend=True\n",
    ")\n",
    "\n",
    "# Customize plot\n",
    "ax.set_title('Heatmap of Job Offers by Commune', fontsize=16)\n",
    "ax.set_axis_off()\n",
    "\n",
    "# Show plot\n",
    "plt.show()"
   ]
  }
 ],
 "metadata": {
  "language_info": {
   "name": "python"
  }
 },
 "nbformat": 4,
 "nbformat_minor": 5
}
