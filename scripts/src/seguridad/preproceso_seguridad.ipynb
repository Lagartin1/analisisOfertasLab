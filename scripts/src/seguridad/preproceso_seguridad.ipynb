{
 "cells": [
  {
   "cell_type": "code",
   "execution_count": 1,
   "id": "ed402deb",
   "metadata": {},
   "outputs": [
    {
     "name": "stdout",
     "output_type": "stream",
     "text": [
      "Datos de seguridad ciudadana (INE) cargados\n",
      "Filas restantes después de eliminar nulos en P_AUMENTO_COM: 49813\n"
     ]
    }
   ],
   "source": [
    "import os\n",
    "import dotenv\n",
    "import pandas as pd\n",
    "\n",
    "dotenv.load_dotenv()\n",
    "path_csv = os.getenv(\"CSV_SEGURIDAD\")\n",
    "try:\n",
    "    df= pd.read_csv(path_csv,sep=\",\",encoding=\"utf-8\")\n",
    "    print(\"Datos de seguridad ciudadana (INE) cargados\")\n",
    "except Exception as e:\n",
    "        print(f\"error :{e}\")\n",
    "\n",
    "df = df[['rph_ID','idhogar','enc_region',\n",
    "         'enc_rpc','P_AUMENTO_COM','P_INSEG_LUGARES_14',\n",
    "         'SCREEN_INT_RDV','SCREEN_INT_RFV','SCREEN_INT_RVI',\n",
    "         'SCREEN_ROB_HUR']]\n",
    "\n",
    "# Eliminar filas donde P_AUMENTO_COM tenga valores nulos\n",
    "df = df.dropna(subset=['P_AUMENTO_COM'])\n",
    "\n",
    "# Verificar el resultado\n",
    "print(f\"Filas restantes después de eliminar nulos en P_AUMENTO_COM: {len(df)}\")"
   ]
  },
  {
   "cell_type": "code",
   "execution_count": 2,
   "id": "eb41c409",
   "metadata": {},
   "outputs": [
    {
     "name": "stdout",
     "output_type": "stream",
     "text": [
      "Datos de seguridad ciudadana (INE) preprocesados\n"
     ]
    }
   ],
   "source": [
    "df.to_csv(path_csv, sep=\",\", index=False, encoding=\"utf-8\")\n",
    "print(\"Datos de seguridad ciudadana (INE) preprocesados\")"
   ]
  }
 ],
 "metadata": {
  "kernelspec": {
   "display_name": "Python 3",
   "language": "python",
   "name": "python3"
  },
  "language_info": {
   "codemirror_mode": {
    "name": "ipython",
    "version": 3
   },
   "file_extension": ".py",
   "mimetype": "text/x-python",
   "name": "python",
   "nbconvert_exporter": "python",
   "pygments_lexer": "ipython3",
   "version": "3.10.12"
  }
 },
 "nbformat": 4,
 "nbformat_minor": 5
}
