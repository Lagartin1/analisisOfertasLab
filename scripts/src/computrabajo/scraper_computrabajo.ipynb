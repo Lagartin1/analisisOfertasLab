{
 "cells": [
  {
   "cell_type": "code",
   "execution_count": 58,
   "id": "f1a20d5f-9314-4265-8374-fcd5fdd8697b",
   "metadata": {},
   "outputs": [],
   "source": [
    "import time\n",
    "import json\n",
    "import pandas as pd\n",
    "from random import randint\n",
    "from selenium import webdriver\n",
    "from selenium.webdriver.common.by import By\n",
    "from selenium.webdriver.support.ui import WebDriverWait\n",
    "from selenium.webdriver.common.keys import Keys\n",
    "from selenium.webdriver.chrome.service import Service\n",
    "from selenium.webdriver.support import expected_conditions as EC\n",
    "from webdriver_manager.chrome import ChromeDriverManager\n",
    "from selenium.webdriver.chrome.options import Options"
   ]
  },
  {
   "cell_type": "markdown",
   "id": "c64b99d8-76a2-436f-a371-eac9ea68183e",
   "metadata": {},
   "source": [
    "## Configuración"
   ]
  },
  {
   "cell_type": "code",
   "execution_count": 59,
   "id": "9d64b260-496e-4662-81da-e441b691a2a8",
   "metadata": {},
   "outputs": [],
   "source": [
    "# Selenium configuration and Chrome driver\n",
    "chrome_options = Options()\n",
    "# Change the User-Agent to simulate a real browser\n",
    "chrome_options.add_argument('user-agent=Mozilla/5.0 (Windows NT 10.0; Win64; x64) AppleWebKit/537.36 (KHTML, like Gecko) Chrome/58.0.3029.110 Safari/537.3')\n",
    "#chrome_options.add_argument(\"--headless\")  # To run the browser without a graphical interface\n",
    "chrome_options.add_argument(\"--no-sandbox\")\n",
    "chrome_options.add_argument(\"--disable-dev-shm-usage\")"
   ]
  },
  {
   "cell_type": "markdown",
   "id": "2de05794-5373-48db-a033-117df433f0b0",
   "metadata": {},
   "source": [
    "## Inicialización"
   ]
  },
  {
   "cell_type": "code",
   "execution_count": 60,
   "id": "2219eca7-727f-4601-a8ba-1a578a30de20",
   "metadata": {},
   "outputs": [],
   "source": [
    "# Initialize the browser (Chrome)\n",
    "driver = webdriver.Chrome(service=Service(ChromeDriverManager().install()), options=chrome_options)\n",
    "\n",
    "# Access the website\n",
    "driver.get(\"https://cl.computrabajo.com/trabajo-de-desarrollador\")\n",
    "\n",
    "# Wait for the page to load\n",
    "time.sleep(5)"
   ]
  },
  {
   "cell_type": "markdown",
   "id": "6890c159-932e-463f-a4e0-c7a681fcd49e",
   "metadata": {},
   "source": [
    "## Extracción de enlaces"
   ]
  },
  {
   "cell_type": "code",
   "execution_count": 61,
   "id": "93f5f480-5bb1-479b-890e-01e138d8d547",
   "metadata": {},
   "outputs": [],
   "source": [
    "def extract_links():\n",
    "    # Find the JSON content within the <script type=\"application/ld+json\"> tag\n",
    "    script_element = driver.find_element(By.CSS_SELECTOR, \"script[type='application/ld+json']\")\n",
    "    \n",
    "    # Extract the content of the script\n",
    "    json_data = script_element.get_attribute(\"innerHTML\")\n",
    "    \n",
    "    # Parse the JSON\n",
    "    data = json.loads(json_data)\n",
    "        \n",
    "    # Extract the links from the 'itemListElement' array\n",
    "    links = []\n",
    "    \n",
    "    # Check if the JSON contains the '@graph' key\n",
    "    if '@graph' in data:\n",
    "        # Iterate through the elements inside '@graph'\n",
    "        for item in data['@graph']:\n",
    "            # If the 'itemListElement' key exists, iterate through it\n",
    "            if 'itemListElement' in item:\n",
    "                for element in item['itemListElement']:\n",
    "                    # If there is a 'url' field, add it to the list of links\n",
    "                    if 'url' in element:\n",
    "                        links.append(element['url'])\n",
    "    \n",
    "    return links\n",
    "    \n",
    "    # Show the extracted links\n",
    "    #print(\"Links found:\")\n",
    "    #for link in links:\n",
    "    #    print(link)"
   ]
  },
  {
   "cell_type": "code",
   "execution_count": 62,
   "id": "87aee43d-b30c-4bfa-b657-920a43411b30",
   "metadata": {},
   "outputs": [],
   "source": [
    "# Function to navigate to the next page\n",
    "def go_to_next_page():\n",
    "    try:\n",
    "        # Find the \"Next\" button and get the link to the next page\n",
    "        next_button = driver.find_element(By.XPATH, '//span[@title=\"Siguiente\"]')\n",
    "        next_page_url = next_button.get_attribute('data-path')  # Get the value of the data-path attribute\n",
    "        \n",
    "        if next_page_url:\n",
    "            driver.get(next_page_url)  # Load the next page using the link\n",
    "            time.sleep(3)  # Wait a bit for the new page to load\n",
    "        else:\n",
    "            print(\"No more pages.\")\n",
    "            return False\n",
    "    except Exception as e:\n",
    "        print(f\"Error while navigating to the next page: {e}\")\n",
    "        return False\n",
    "    return True"
   ]
  },
  {
   "cell_type": "code",
   "execution_count": 63,
   "id": "db1ce456-912d-4dd2-9a84-67d571eb87a4",
   "metadata": {},
   "outputs": [],
   "source": [
    "all_links = []\n",
    "\n",
    "for i in range(5):\n",
    "    all_links = all_links + extract_links()\n",
    "    go_to_next_page()"
   ]
  },
  {
   "cell_type": "code",
   "execution_count": 64,
   "id": "df2ae3f9-d0af-497a-919a-d3617e3e5199",
   "metadata": {},
   "outputs": [
    {
     "name": "stdout",
     "output_type": "stream",
     "text": [
      "['https://cl.computrabajo.com/ofertas-de-trabajo/oferta-de-trabajo-de-desarrollador-fullstack-controller-java-springboot-plsql-oracle-aws-kubernetes-en-santiago-providencia-983B6DAEB2C2649361373E686DCF3405', 'https://cl.computrabajo.com/ofertas-de-trabajo/oferta-de-trabajo-de-desarrollador-web-en-santiago-centro-089EAD6B492D1F4D61373E686DCF3405', 'https://cl.computrabajo.com/ofertas-de-trabajo/oferta-de-trabajo-de-especialista-desarrollador-proyecto-en-santiago-centro-A7B6C4043CD48E2861373E686DCF3405', 'https://cl.computrabajo.com/ofertas-de-trabajo/oferta-de-trabajo-de-programador-mobile-androidjava-en-santiago-centro-8FD3EA2B233A51C561373E686DCF3405', 'https://cl.computrabajo.com/ofertas-de-trabajo/oferta-de-trabajo-de-desarrollador-net-senior-en-santiago-centro-0E25ECDFE5C311D361373E686DCF3405', 'https://cl.computrabajo.com/ofertas-de-trabajo/oferta-de-trabajo-de-desarrollador-frontend-react-native-home-office-en-santiago-lo-barnechea-CF609DE8D789E17961373E686DCF3405', 'https://cl.computrabajo.com/ofertas-de-trabajo/oferta-de-trabajo-de-desarrollador-full-stack-senior-en-santiago-centro-E67BDA03A57F1ECF61373E686DCF3405', 'https://cl.computrabajo.com/ofertas-de-trabajo/oferta-de-trabajo-de-analista-programador-python-hibrido-en-santiago-las-condes-70B4293408B7C42C61373E686DCF3405', 'https://cl.computrabajo.com/ofertas-de-trabajo/oferta-de-trabajo-de-desarrollador-frontend-senior-angular-16htmlcssgit-modalidad-hibrida-en-santiago-las-condes-769EBCB92EDF691161373E686DCF3405', 'https://cl.computrabajo.com/ofertas-de-trabajo/oferta-de-trabajo-de-programadora-planificadora-taller-de-repuestos-pudahuel-proyecto-en-santiago-pudahuel-95EC6439C41F980361373E686DCF3405', 'https://cl.computrabajo.com/ofertas-de-trabajo/oferta-de-trabajo-de-desarrollador-san-bernardo-en-san-bernardo-EC8C18E309931B9161373E686DCF3405', 'https://cl.computrabajo.com/ofertas-de-trabajo/oferta-de-trabajo-de-desarrollador-frontend-react-native-remoto-en-santiago-lo-barnechea-8D027260E7DBFA9761373E686DCF3405', 'https://cl.computrabajo.com/ofertas-de-trabajo/oferta-de-trabajo-de-work-from-home-typescript-developer-ref-0341-en-vina-del-mar-2E3FEE3A2031A6A261373E686DCF3405', 'https://cl.computrabajo.com/ofertas-de-trabajo/oferta-de-trabajo-de-desarrollador-net-c-area-salud-en-santiago-san-ramon-1262198E32D6DE2C61373E686DCF3405', 'https://cl.computrabajo.com/ofertas-de-trabajo/oferta-de-trabajo-de-desarrollador-frontend-desarrollador-frontend-en-santiago-las-condes-E4E85EBBD4D280D861373E686DCF3405', 'https://cl.computrabajo.com/ofertas-de-trabajo/oferta-de-trabajo-de-desarrollador-backend-desarrollador-backend-en-santiago-las-condes-E1EA3CAFB02FA82461373E686DCF3405', 'https://cl.computrabajo.com/ofertas-de-trabajo/oferta-de-trabajo-de-desarrollador-fullstack-desarrollador-fullstack-en-santiago-las-condes-A47DA16615A12D9B61373E686DCF3405', 'https://cl.computrabajo.com/ofertas-de-trabajo/oferta-de-trabajo-de-analista-programador-analista-programador-en-santiago-las-condes-7C385F2DE405AB7361373E686DCF3405', 'https://cl.computrabajo.com/ofertas-de-trabajo/oferta-de-trabajo-de-desarrollador-net-plsql-proyecto-en-santiago-centro-6C8B62F9F6A3BBED61373E686DCF3405', 'https://cl.computrabajo.com/ofertas-de-trabajo/oferta-de-trabajo-de-work-from-home-vuejs-developer-ref-0255-en-vina-del-mar-EC1BD88ABDEB969D61373E686DCF3405', 'https://cl.computrabajo.com/ofertas-de-trabajo/oferta-de-trabajo-de-desarrollador-plsql-proyecto-en-santiago-centro-EECD204D0B48D8F861373E686DCF3405', 'https://cl.computrabajo.com/ofertas-de-trabajo/oferta-de-trabajo-de-programador-de-taller-pudahuel-lo-boza-en-santiago-pudahuel-961B9ADDFBE9090A61373E686DCF3405', 'https://cl.computrabajo.com/ofertas-de-trabajo/oferta-de-trabajo-de-dba-y-desarrollador-sql-senior-en-santiago-vitacura-5D333AC649ED67F361373E686DCF3405', 'https://cl.computrabajo.com/ofertas-de-trabajo/oferta-de-trabajo-de-desarrollador-fullstack-angular-net-core-indefinido-en-santiago-la-reina-7A6180B32E4FAA8D61373E686DCF3405', 'https://cl.computrabajo.com/ofertas-de-trabajo/oferta-de-trabajo-de-programador-especialista-host-en-santiago-centro-BC81D38F76CC21B561373E686DCF3405', 'https://cl.computrabajo.com/ofertas-de-trabajo/oferta-de-trabajo-de-desarrollador-de-contenidos-de-formacion-proyecto-en-santiago-providencia-C379120C25A86E9B61373E686DCF3405', 'https://cl.computrabajo.com/ofertas-de-trabajo/oferta-de-trabajo-de-api-restful-devops-desarrollador-fullstack-senior-en-santiago-vitacura-6B3B5AFD3806EC3061373E686DCF3405', 'https://cl.computrabajo.com/ofertas-de-trabajo/oferta-de-trabajo-de-trabajo-desde-casa-desarrollador-net-backend-ref-0001-en-santiago-centro-5078AAA05AC6FC9161373E686DCF3405', 'https://cl.computrabajo.com/ofertas-de-trabajo/oferta-de-trabajo-de-desarrollador-fullstack-area-de-seguros-en-santiago-las-condes-6F1A25F95E422E6361373E686DCF3405', 'https://cl.computrabajo.com/ofertas-de-trabajo/oferta-de-trabajo-de-work-from-home-junior-angular-developer-rd-ref-0615-en-santiago-centro-433E348C8005593061373E686DCF3405', 'https://cl.computrabajo.com/ofertas-de-trabajo/oferta-de-trabajo-de-practica-profesional-analista-programador-informatica-chillan-viejo-en-chillan-viejo-B39A8B0E62D4585561373E686DCF3405', 'https://cl.computrabajo.com/ofertas-de-trabajo/oferta-de-trabajo-de-desarrollador-middleware-proyecto-de-3-meses-en-santiago-centro-FA134A2B6DE6CA5561373E686DCF3405', 'https://cl.computrabajo.com/ofertas-de-trabajo/oferta-de-trabajo-de-desarrollador-frontend-react-native-remoto-en-santiago-lo-barnechea-00285E28707DAD7261373E686DCF3405', 'https://cl.computrabajo.com/ofertas-de-trabajo/oferta-de-trabajo-de-trabajo-desde-casa-desarrollador-juniormidlevel-net-i-d-ref-0001-en-santiago-centro-A0DEED70426764FC61373E686DCF3405', 'https://cl.computrabajo.com/ofertas-de-trabajo/oferta-de-trabajo-de-desarrollador-pl-sql-oracle-presencial-en-santiago-providencia-47ADB1F1CD9563D061373E686DCF3405', 'https://cl.computrabajo.com/ofertas-de-trabajo/oferta-de-trabajo-de-desarrollador-fullstack-java-springboot-angular11-en-santiago-providencia-638629577231ACC261373E686DCF3405', 'https://cl.computrabajo.com/ofertas-de-trabajo/oferta-de-trabajo-de-desarrollador-backend-middleware-remoto-en-santiago-centro-84CA72E3C7D8B90E61373E686DCF3405', 'https://cl.computrabajo.com/ofertas-de-trabajo/oferta-de-trabajo-de-desarrollador-web-santiago-centro-en-santiago-centro-024FE9306925814E61373E686DCF3405', 'https://cl.computrabajo.com/ofertas-de-trabajo/oferta-de-trabajo-de-desarrollador-fullstack-junior-en-santiago-la-reina-DA403217EACF891E61373E686DCF3405', 'https://cl.computrabajo.com/ofertas-de-trabajo/oferta-de-trabajo-de-programador-php-laravel-semi-senior-en-concepcion-A0A2E3C01818218A61373E686DCF3405', 'https://cl.computrabajo.com/ofertas-de-trabajo/oferta-de-trabajo-de-desarrollador-salesforce-100-remoto-en-santiago-las-condes-966CD67E89CA9D3C61373E686DCF3405', 'https://cl.computrabajo.com/ofertas-de-trabajo/oferta-de-trabajo-de-desarrollador-senior-react-desarrollador-senior-react-en-santiago-centro-2D5E5F6DB5184DED61373E686DCF3405', 'https://cl.computrabajo.com/ofertas-de-trabajo/oferta-de-trabajo-de-trabajo-desde-casa-desarrollador-salesforce-ref-0102-en-vina-del-mar-B11517D6F9A6969161373E686DCF3405', 'https://cl.computrabajo.com/ofertas-de-trabajo/oferta-de-trabajo-de-programador-mobile-androidjava-en-santiago-centro-0FCE49298050FF2961373E686DCF3405', 'https://cl.computrabajo.com/ofertas-de-trabajo/oferta-de-trabajo-de-trabajo-desde-casa-desarrollador-react-junior-ref-0169-en-santiago-centro-BCFDE11AA9F2913661373E686DCF3405', 'https://cl.computrabajo.com/ofertas-de-trabajo/oferta-de-trabajo-de-trabajo-desde-casa-desarrollador-juniormidlevel-java-ref-0003-en-santiago-centro-E8E830F61D7AFF1561373E686DCF3405', 'https://cl.computrabajo.com/ofertas-de-trabajo/oferta-de-trabajo-de-work-from-home-ruby-junior-developer-ref-0026-en-santiago-centro-A6336EEA4CF1A40661373E686DCF3405', 'https://cl.computrabajo.com/ofertas-de-trabajo/oferta-de-trabajo-de-trabajo-desde-casa-desarrollador-java-senior-ref-0003-en-santiago-centro-CCF4A1B1D0784D1A61373E686DCF3405', 'https://cl.computrabajo.com/ofertas-de-trabajo/oferta-de-trabajo-de-trabajo-desde-casa-desarrollador-aspnet-investigacion-y-desarrollo-ref-0001-en-valparaiso-FB26DD81EC82A88A61373E686DCF3405', 'https://cl.computrabajo.com/ofertas-de-trabajo/oferta-de-trabajo-de-trabajo-desde-casa-desarrollador-junior-nodejs-ref-0111-en-valparaiso-6E5CB51154FFAC3761373E686DCF3405', 'https://cl.computrabajo.com/ofertas-de-trabajo/oferta-de-trabajo-de-trabajo-desde-casa-desarrollador-trainee-nodejs-ref-0111-en-valparaiso-84A14F473033A1E161373E686DCF3405', 'https://cl.computrabajo.com/ofertas-de-trabajo/oferta-de-trabajo-de-trabajo-desde-casa-desarrollador-typescript-ref-0341-en-valparaiso-019AF37CC952F00961373E686DCF3405', 'https://cl.computrabajo.com/ofertas-de-trabajo/oferta-de-trabajo-de-trabajo-desde-casa-node-developer-ref-0111-en-valparaiso-E473AC5C7006320C61373E686DCF3405', 'https://cl.computrabajo.com/ofertas-de-trabajo/oferta-de-trabajo-de-trabajo-desde-casa-desarrollador-python-senior-ref-0071-en-valparaiso-E68A9491BC476C5F61373E686DCF3405', 'https://cl.computrabajo.com/ofertas-de-trabajo/oferta-de-trabajo-de-trabajo-desde-casa-desarrollador-backend-junior-python-investigacion-desarrollo-ref-0071-en-concepcion-FE5AECA14D613FE161373E686DCF3405', 'https://cl.computrabajo.com/ofertas-de-trabajo/oferta-de-trabajo-de-work-from-home-net-azure-etl-senior-developer-ref-0001-en-concepcion-99B2333553BD42CC61373E686DCF3405', 'https://cl.computrabajo.com/ofertas-de-trabajo/oferta-de-trabajo-de-developer-salesforce-apex-en-santiago-las-condes-35B79AC7F78870A561373E686DCF3405', 'https://cl.computrabajo.com/ofertas-de-trabajo/oferta-de-trabajo-de-programador-despachador-arica-en-arica-5BB1830633EFD32861373E686DCF3405', 'https://cl.computrabajo.com/ofertas-de-trabajo/oferta-de-trabajo-de-desarrollador-mobile-android-contrato-indefinido-en-santiago-centro-0C3DE36BD78D671A61373E686DCF3405', 'https://cl.computrabajo.com/ofertas-de-trabajo/oferta-de-trabajo-de-desarrollador-fullstack-area-de-seguros-en-santiago-las-condes-FDE2375F6E6C6D3B61373E686DCF3405', 'https://cl.computrabajo.com/ofertas-de-trabajo/oferta-de-trabajo-de-programador-en-mejillones-F4B6EDAA0AB6D1DF61373E686DCF3405', 'https://cl.computrabajo.com/ofertas-de-trabajo/oferta-de-trabajo-de-programador-frontend-ionic-en-santiago-centro-D533E977A48794F561373E686DCF3405', 'https://cl.computrabajo.com/ofertas-de-trabajo/oferta-de-trabajo-de-api-restful-devops-desarrollador-fullstack-senior-en-santiago-vitacura-DABB3448A520C92861373E686DCF3405', 'https://cl.computrabajo.com/ofertas-de-trabajo/oferta-de-trabajo-de-desarrollador-javascriptnodejs-modalidad-hibrida-en-santiago-providencia-645F49EBEB41222C61373E686DCF3405', 'https://cl.computrabajo.com/ofertas-de-trabajo/oferta-de-trabajo-de-work-from-home-fullstack-node-nest-react-developer-ref-0111-en-concepcion-432ABB308BBC11A461373E686DCF3405', 'https://cl.computrabajo.com/ofertas-de-trabajo/oferta-de-trabajo-de-desarrollador-frontend-ionic-en-santiago-centro-19BBC78EB50A394561373E686DCF3405', 'https://cl.computrabajo.com/ofertas-de-trabajo/oferta-de-trabajo-de-desarrollador-full-stack-importante-empresa-en-santiago-vitacura-ABAEA713617066CA61373E686DCF3405', 'https://cl.computrabajo.com/ofertas-de-trabajo/oferta-de-trabajo-de-trabajo-desde-casa-golang-developer-ref-0138-en-concepcion-A9061EFC6703B91061373E686DCF3405', 'https://cl.computrabajo.com/ofertas-de-trabajo/oferta-de-trabajo-de-desarrollador-backend-node-gcp-go-en-santiago-providencia-37DE24B2D356CE3261373E686DCF3405', 'https://cl.computrabajo.com/ofertas-de-trabajo/oferta-de-trabajo-de-desarrollador-frontend-react-native-remoto-en-santiago-lo-barnechea-AEE963883409FCC261373E686DCF3405', 'https://cl.computrabajo.com/ofertas-de-trabajo/oferta-de-trabajo-de-dba-y-desarrollador-sql-senior-en-santiago-vitacura-690C406649A7CE3061373E686DCF3405', 'https://cl.computrabajo.com/ofertas-de-trabajo/oferta-de-trabajo-de-desarrollador-backend-nodejs-goland-y-gcp-hibrido-en-santiago-providencia-4247F0F9D455D0DB61373E686DCF3405', 'https://cl.computrabajo.com/ofertas-de-trabajo/oferta-de-trabajo-de-desarrollador-full-stack-en-santiago-providencia-3C780E67D2F75AE361373E686DCF3405', 'https://cl.computrabajo.com/ofertas-de-trabajo/oferta-de-trabajo-de-desarrollador-full-stack-importante-empresa-en-santiago-vitacura-3128496DF9235D0561373E686DCF3405', 'https://cl.computrabajo.com/ofertas-de-trabajo/oferta-de-trabajo-de-work-from-home-java-backend-developer-ref-0003-en-concepcion-F202581C906C81AF61373E686DCF3405', 'https://cl.computrabajo.com/ofertas-de-trabajo/oferta-de-trabajo-de-desarrollador-backend-node-gcp-go-en-santiago-providencia-1F2291BC496E556261373E686DCF3405', 'https://cl.computrabajo.com/ofertas-de-trabajo/oferta-de-trabajo-de-programador-frontend-ionic-en-santiago-centro-E801774AB3EC9C3461373E686DCF3405', 'https://cl.computrabajo.com/ofertas-de-trabajo/oferta-de-trabajo-de-desarrollador-plsql-proyecto-en-santiago-centro-8A4924EAC4CF537B61373E686DCF3405', 'https://cl.computrabajo.com/ofertas-de-trabajo/oferta-de-trabajo-de-programador-frontend-ionic-contrato-indefinido-en-santiago-centro-7C53CEE61C69ECD361373E686DCF3405', 'https://cl.computrabajo.com/ofertas-de-trabajo/oferta-de-trabajo-de-work-from-home-junior-developer-python-ref-0071-en-concepcion-8099BF5F21DB1E3561373E686DCF3405', 'https://cl.computrabajo.com/ofertas-de-trabajo/oferta-de-trabajo-de-desarrollador-plsql-proyecto-en-santiago-centro-A468F1BC21B54E9B61373E686DCF3405', 'https://cl.computrabajo.com/ofertas-de-trabajo/oferta-de-trabajo-de-administrador-bases-datos-y-desarrollador-sql-senior-en-santiago-vitacura-48098DDB5CE15EDE61373E686DCF3405', 'https://cl.computrabajo.com/ofertas-de-trabajo/oferta-de-trabajo-de-work-from-home-junior-frontend-developer-ref-0054-en-concepcion-C1DE1EDF0AFEB10261373E686DCF3405', 'https://cl.computrabajo.com/ofertas-de-trabajo/oferta-de-trabajo-de-desarrollador-fullstack-api-restful-devops-senior-en-santiago-vitacura-510BCDDD1E79656361373E686DCF3405', 'https://cl.computrabajo.com/ofertas-de-trabajo/oferta-de-trabajo-de-programador-ionic-frontend-en-santiago-centro-9FBB7760EBB0FCEC61373E686DCF3405', 'https://cl.computrabajo.com/ofertas-de-trabajo/oferta-de-trabajo-de-desarrollador-plsql-hibrido-en-santiago-centro-19AE5A318E5662A461373E686DCF3405', 'https://cl.computrabajo.com/ofertas-de-trabajo/oferta-de-trabajo-de-programador-frontend-ionic-contrato-indefinido-en-santiago-centro-0727FB998067F01061373E686DCF3405', 'https://cl.computrabajo.com/ofertas-de-trabajo/oferta-de-trabajo-de-administrador-de-bases-de-datos-sql-developer-senior-en-santiago-vitacura-E43FB99CDEE0F37E61373E686DCF3405', 'https://cl.computrabajo.com/ofertas-de-trabajo/oferta-de-trabajo-de-work-from-home-junior-javascript-developer-ref-0289-en-concepcion-86E0ADE7063B8DE861373E686DCF3405', 'https://cl.computrabajo.com/ofertas-de-trabajo/oferta-de-trabajo-de-programador-de-taller-lo-boza-pudahuel-en-santiago-pudahuel-E606CECCB142156B61373E686DCF3405', 'https://cl.computrabajo.com/ofertas-de-trabajo/oferta-de-trabajo-de-desarrollador-backend-hibrido-en-santiago-providencia-49175E70EB0B2CE261373E686DCF3405', 'https://cl.computrabajo.com/ofertas-de-trabajo/oferta-de-trabajo-de-desarrollador-api-rest-full-y-devops-fullstack-senior-en-santiago-vitacura-D5C0E27116B7E46A61373E686DCF3405', 'https://cl.computrabajo.com/ofertas-de-trabajo/oferta-de-trabajo-de-trabajo-desde-casa-desarrollador-node-backend-ref-0111-en-concepcion-01A9FB1E0CEF81F361373E686DCF3405', 'https://cl.computrabajo.com/ofertas-de-trabajo/oferta-de-trabajo-de-desarrollador-senior-en-santiago-las-condes-DFF16DF74010830C61373E686DCF3405', 'https://cl.computrabajo.com/ofertas-de-trabajo/oferta-de-trabajo-de-desarrollador-frontend-reactjs-home-office-en-santiago-lo-barnechea-F176561F7D1F263061373E686DCF3405', 'https://cl.computrabajo.com/ofertas-de-trabajo/oferta-de-trabajo-de-desarrollador-frontend-reactjs-home-office-en-santiago-lo-barnechea-EFD2E478BD39ACEF61373E686DCF3405', 'https://cl.computrabajo.com/ofertas-de-trabajo/oferta-de-trabajo-de-prospector-de-nuevos-clientes-desarrollador-de-proyectos-construccion-huechuraba-en-santiago-huechuraba-3641F2BEB9EF541661373E686DCF3405']\n"
     ]
    }
   ],
   "source": [
    "print(all_links)"
   ]
  },
  {
   "cell_type": "markdown",
   "id": "5c0fac53-a7bb-4aec-8e5d-18c256a2155a",
   "metadata": {},
   "source": [
    "## Extracción de datos"
   ]
  },
  {
   "cell_type": "code",
   "execution_count": 65,
   "id": "1dbab822-6ea2-4013-9e65-38271aa46761",
   "metadata": {},
   "outputs": [],
   "source": [
    "def extract_data(link):\n",
    "    # Load the page\n",
    "    url = link\n",
    "    driver.get(url)\n",
    "    \n",
    "    # Salary\n",
    "    try:\n",
    "        span_element = WebDriverWait(driver, 10).until(\n",
    "            EC.presence_of_element_located((By.XPATH, '//span[@itemprop=\"baseSalary\"]'))\n",
    "        )\n",
    "        meta_tag = span_element.find_element(By.XPATH, './/meta[@itemprop=\"value\"]')\n",
    "        salary_value = meta_tag.get_attribute(\"content\")\n",
    "    except:\n",
    "        salary_value = \"N/A\"\n",
    "    \n",
    "    # Company\n",
    "    span_element = WebDriverWait(driver, 10).until(\n",
    "        EC.presence_of_element_located((By.XPATH, '//span[@itemprop=\"hiringOrganization\"]'))\n",
    "    )\n",
    "    company_tag = span_element.find_element(By.XPATH, './/meta[@itemprop=\"name\"]')\n",
    "    company_name = company_tag.get_attribute(\"content\")\n",
    "    \n",
    "    # Region and commune\n",
    "    job_location_element = WebDriverWait(driver, 10).until(\n",
    "        EC.presence_of_element_located((By.XPATH, '//span[@itemprop=\"jobLocation\"]'))\n",
    "    )\n",
    "    address_element = job_location_element.find_element(By.XPATH, './/span[@itemprop=\"address\"]')\n",
    "    address_locality = address_element.find_element(By.XPATH, './/meta[@itemprop=\"addressLocality\"]')\n",
    "    address_region = address_element.find_element(By.XPATH, './/meta[@itemprop=\"addressRegion\"]')\n",
    "    region = address_locality.get_attribute(\"content\")\n",
    "    commune = address_region.get_attribute(\"content\")\n",
    "    \n",
    "    # Job title\n",
    "    title_element = WebDriverWait(driver, 10).until(\n",
    "        EC.presence_of_element_located((By.XPATH, '/html/body/main/span/meta[1]'))\n",
    "    )\n",
    "    job_title = title_element.get_attribute('content')\n",
    "\n",
    "    job_data = {\n",
    "        \"Salario\": salary_value,\n",
    "        \"Empresa\": company_name,\n",
    "        \"Comuna\": commune,\n",
    "        \"Región\": region,\n",
    "        \"Cargo\": job_title\n",
    "    }\n",
    "    \n",
    "    return job_data\n"
   ]
  },
  {
   "cell_type": "code",
   "execution_count": 66,
   "id": "78a050d6-ffa4-4281-8690-629391dbd20d",
   "metadata": {
    "scrolled": true
   },
   "outputs": [
    {
     "name": "stdout",
     "output_type": "stream",
     "text": [
      "https://cl.computrabajo.com/ofertas-de-trabajo/oferta-de-trabajo-de-desarrollador-fullstack-controller-java-springboot-plsql-oracle-aws-kubernetes-en-santiago-providencia-983B6DAEB2C2649361373E686DCF3405\n",
      "https://cl.computrabajo.com/ofertas-de-trabajo/oferta-de-trabajo-de-desarrollador-web-en-santiago-centro-089EAD6B492D1F4D61373E686DCF3405\n",
      "https://cl.computrabajo.com/ofertas-de-trabajo/oferta-de-trabajo-de-especialista-desarrollador-proyecto-en-santiago-centro-A7B6C4043CD48E2861373E686DCF3405\n",
      "https://cl.computrabajo.com/ofertas-de-trabajo/oferta-de-trabajo-de-programador-mobile-androidjava-en-santiago-centro-8FD3EA2B233A51C561373E686DCF3405\n",
      "https://cl.computrabajo.com/ofertas-de-trabajo/oferta-de-trabajo-de-desarrollador-net-senior-en-santiago-centro-0E25ECDFE5C311D361373E686DCF3405\n",
      "https://cl.computrabajo.com/ofertas-de-trabajo/oferta-de-trabajo-de-desarrollador-frontend-react-native-home-office-en-santiago-lo-barnechea-CF609DE8D789E17961373E686DCF3405\n",
      "https://cl.computrabajo.com/ofertas-de-trabajo/oferta-de-trabajo-de-desarrollador-full-stack-senior-en-santiago-centro-E67BDA03A57F1ECF61373E686DCF3405\n",
      "https://cl.computrabajo.com/ofertas-de-trabajo/oferta-de-trabajo-de-analista-programador-python-hibrido-en-santiago-las-condes-70B4293408B7C42C61373E686DCF3405\n",
      "https://cl.computrabajo.com/ofertas-de-trabajo/oferta-de-trabajo-de-desarrollador-frontend-senior-angular-16htmlcssgit-modalidad-hibrida-en-santiago-las-condes-769EBCB92EDF691161373E686DCF3405\n",
      "https://cl.computrabajo.com/ofertas-de-trabajo/oferta-de-trabajo-de-programadora-planificadora-taller-de-repuestos-pudahuel-proyecto-en-santiago-pudahuel-95EC6439C41F980361373E686DCF3405\n",
      "https://cl.computrabajo.com/ofertas-de-trabajo/oferta-de-trabajo-de-desarrollador-san-bernardo-en-san-bernardo-EC8C18E309931B9161373E686DCF3405\n",
      "https://cl.computrabajo.com/ofertas-de-trabajo/oferta-de-trabajo-de-desarrollador-frontend-react-native-remoto-en-santiago-lo-barnechea-8D027260E7DBFA9761373E686DCF3405\n",
      "https://cl.computrabajo.com/ofertas-de-trabajo/oferta-de-trabajo-de-work-from-home-typescript-developer-ref-0341-en-vina-del-mar-2E3FEE3A2031A6A261373E686DCF3405\n",
      "https://cl.computrabajo.com/ofertas-de-trabajo/oferta-de-trabajo-de-desarrollador-net-c-area-salud-en-santiago-san-ramon-1262198E32D6DE2C61373E686DCF3405\n",
      "https://cl.computrabajo.com/ofertas-de-trabajo/oferta-de-trabajo-de-desarrollador-frontend-desarrollador-frontend-en-santiago-las-condes-E4E85EBBD4D280D861373E686DCF3405\n",
      "https://cl.computrabajo.com/ofertas-de-trabajo/oferta-de-trabajo-de-desarrollador-backend-desarrollador-backend-en-santiago-las-condes-E1EA3CAFB02FA82461373E686DCF3405\n",
      "https://cl.computrabajo.com/ofertas-de-trabajo/oferta-de-trabajo-de-desarrollador-fullstack-desarrollador-fullstack-en-santiago-las-condes-A47DA16615A12D9B61373E686DCF3405\n",
      "https://cl.computrabajo.com/ofertas-de-trabajo/oferta-de-trabajo-de-analista-programador-analista-programador-en-santiago-las-condes-7C385F2DE405AB7361373E686DCF3405\n",
      "https://cl.computrabajo.com/ofertas-de-trabajo/oferta-de-trabajo-de-desarrollador-net-plsql-proyecto-en-santiago-centro-6C8B62F9F6A3BBED61373E686DCF3405\n",
      "https://cl.computrabajo.com/ofertas-de-trabajo/oferta-de-trabajo-de-work-from-home-vuejs-developer-ref-0255-en-vina-del-mar-EC1BD88ABDEB969D61373E686DCF3405\n",
      "https://cl.computrabajo.com/ofertas-de-trabajo/oferta-de-trabajo-de-desarrollador-plsql-proyecto-en-santiago-centro-EECD204D0B48D8F861373E686DCF3405\n",
      "https://cl.computrabajo.com/ofertas-de-trabajo/oferta-de-trabajo-de-programador-de-taller-pudahuel-lo-boza-en-santiago-pudahuel-961B9ADDFBE9090A61373E686DCF3405\n",
      "https://cl.computrabajo.com/ofertas-de-trabajo/oferta-de-trabajo-de-dba-y-desarrollador-sql-senior-en-santiago-vitacura-5D333AC649ED67F361373E686DCF3405\n",
      "https://cl.computrabajo.com/ofertas-de-trabajo/oferta-de-trabajo-de-desarrollador-fullstack-angular-net-core-indefinido-en-santiago-la-reina-7A6180B32E4FAA8D61373E686DCF3405\n",
      "https://cl.computrabajo.com/ofertas-de-trabajo/oferta-de-trabajo-de-programador-especialista-host-en-santiago-centro-BC81D38F76CC21B561373E686DCF3405\n",
      "https://cl.computrabajo.com/ofertas-de-trabajo/oferta-de-trabajo-de-desarrollador-de-contenidos-de-formacion-proyecto-en-santiago-providencia-C379120C25A86E9B61373E686DCF3405\n",
      "https://cl.computrabajo.com/ofertas-de-trabajo/oferta-de-trabajo-de-api-restful-devops-desarrollador-fullstack-senior-en-santiago-vitacura-6B3B5AFD3806EC3061373E686DCF3405\n",
      "https://cl.computrabajo.com/ofertas-de-trabajo/oferta-de-trabajo-de-trabajo-desde-casa-desarrollador-net-backend-ref-0001-en-santiago-centro-5078AAA05AC6FC9161373E686DCF3405\n",
      "https://cl.computrabajo.com/ofertas-de-trabajo/oferta-de-trabajo-de-desarrollador-fullstack-area-de-seguros-en-santiago-las-condes-6F1A25F95E422E6361373E686DCF3405\n",
      "https://cl.computrabajo.com/ofertas-de-trabajo/oferta-de-trabajo-de-work-from-home-junior-angular-developer-rd-ref-0615-en-santiago-centro-433E348C8005593061373E686DCF3405\n",
      "https://cl.computrabajo.com/ofertas-de-trabajo/oferta-de-trabajo-de-practica-profesional-analista-programador-informatica-chillan-viejo-en-chillan-viejo-B39A8B0E62D4585561373E686DCF3405\n",
      "https://cl.computrabajo.com/ofertas-de-trabajo/oferta-de-trabajo-de-desarrollador-middleware-proyecto-de-3-meses-en-santiago-centro-FA134A2B6DE6CA5561373E686DCF3405\n",
      "https://cl.computrabajo.com/ofertas-de-trabajo/oferta-de-trabajo-de-desarrollador-frontend-react-native-remoto-en-santiago-lo-barnechea-00285E28707DAD7261373E686DCF3405\n",
      "https://cl.computrabajo.com/ofertas-de-trabajo/oferta-de-trabajo-de-trabajo-desde-casa-desarrollador-juniormidlevel-net-i-d-ref-0001-en-santiago-centro-A0DEED70426764FC61373E686DCF3405\n",
      "https://cl.computrabajo.com/ofertas-de-trabajo/oferta-de-trabajo-de-desarrollador-pl-sql-oracle-presencial-en-santiago-providencia-47ADB1F1CD9563D061373E686DCF3405\n",
      "https://cl.computrabajo.com/ofertas-de-trabajo/oferta-de-trabajo-de-desarrollador-fullstack-java-springboot-angular11-en-santiago-providencia-638629577231ACC261373E686DCF3405\n",
      "https://cl.computrabajo.com/ofertas-de-trabajo/oferta-de-trabajo-de-desarrollador-backend-middleware-remoto-en-santiago-centro-84CA72E3C7D8B90E61373E686DCF3405\n",
      "https://cl.computrabajo.com/ofertas-de-trabajo/oferta-de-trabajo-de-desarrollador-web-santiago-centro-en-santiago-centro-024FE9306925814E61373E686DCF3405\n",
      "https://cl.computrabajo.com/ofertas-de-trabajo/oferta-de-trabajo-de-desarrollador-fullstack-junior-en-santiago-la-reina-DA403217EACF891E61373E686DCF3405\n",
      "https://cl.computrabajo.com/ofertas-de-trabajo/oferta-de-trabajo-de-programador-php-laravel-semi-senior-en-concepcion-A0A2E3C01818218A61373E686DCF3405\n",
      "https://cl.computrabajo.com/ofertas-de-trabajo/oferta-de-trabajo-de-desarrollador-salesforce-100-remoto-en-santiago-las-condes-966CD67E89CA9D3C61373E686DCF3405\n",
      "https://cl.computrabajo.com/ofertas-de-trabajo/oferta-de-trabajo-de-desarrollador-senior-react-desarrollador-senior-react-en-santiago-centro-2D5E5F6DB5184DED61373E686DCF3405\n",
      "https://cl.computrabajo.com/ofertas-de-trabajo/oferta-de-trabajo-de-trabajo-desde-casa-desarrollador-salesforce-ref-0102-en-vina-del-mar-B11517D6F9A6969161373E686DCF3405\n",
      "https://cl.computrabajo.com/ofertas-de-trabajo/oferta-de-trabajo-de-programador-mobile-androidjava-en-santiago-centro-0FCE49298050FF2961373E686DCF3405\n",
      "https://cl.computrabajo.com/ofertas-de-trabajo/oferta-de-trabajo-de-trabajo-desde-casa-desarrollador-react-junior-ref-0169-en-santiago-centro-BCFDE11AA9F2913661373E686DCF3405\n",
      "https://cl.computrabajo.com/ofertas-de-trabajo/oferta-de-trabajo-de-trabajo-desde-casa-desarrollador-juniormidlevel-java-ref-0003-en-santiago-centro-E8E830F61D7AFF1561373E686DCF3405\n",
      "https://cl.computrabajo.com/ofertas-de-trabajo/oferta-de-trabajo-de-work-from-home-ruby-junior-developer-ref-0026-en-santiago-centro-A6336EEA4CF1A40661373E686DCF3405\n",
      "https://cl.computrabajo.com/ofertas-de-trabajo/oferta-de-trabajo-de-trabajo-desde-casa-desarrollador-java-senior-ref-0003-en-santiago-centro-CCF4A1B1D0784D1A61373E686DCF3405\n",
      "https://cl.computrabajo.com/ofertas-de-trabajo/oferta-de-trabajo-de-trabajo-desde-casa-desarrollador-aspnet-investigacion-y-desarrollo-ref-0001-en-valparaiso-FB26DD81EC82A88A61373E686DCF3405\n",
      "https://cl.computrabajo.com/ofertas-de-trabajo/oferta-de-trabajo-de-trabajo-desde-casa-desarrollador-junior-nodejs-ref-0111-en-valparaiso-6E5CB51154FFAC3761373E686DCF3405\n",
      "https://cl.computrabajo.com/ofertas-de-trabajo/oferta-de-trabajo-de-trabajo-desde-casa-desarrollador-trainee-nodejs-ref-0111-en-valparaiso-84A14F473033A1E161373E686DCF3405\n",
      "https://cl.computrabajo.com/ofertas-de-trabajo/oferta-de-trabajo-de-trabajo-desde-casa-desarrollador-typescript-ref-0341-en-valparaiso-019AF37CC952F00961373E686DCF3405\n",
      "https://cl.computrabajo.com/ofertas-de-trabajo/oferta-de-trabajo-de-trabajo-desde-casa-node-developer-ref-0111-en-valparaiso-E473AC5C7006320C61373E686DCF3405\n",
      "https://cl.computrabajo.com/ofertas-de-trabajo/oferta-de-trabajo-de-trabajo-desde-casa-desarrollador-python-senior-ref-0071-en-valparaiso-E68A9491BC476C5F61373E686DCF3405\n",
      "https://cl.computrabajo.com/ofertas-de-trabajo/oferta-de-trabajo-de-trabajo-desde-casa-desarrollador-backend-junior-python-investigacion-desarrollo-ref-0071-en-concepcion-FE5AECA14D613FE161373E686DCF3405\n",
      "https://cl.computrabajo.com/ofertas-de-trabajo/oferta-de-trabajo-de-work-from-home-net-azure-etl-senior-developer-ref-0001-en-concepcion-99B2333553BD42CC61373E686DCF3405\n",
      "https://cl.computrabajo.com/ofertas-de-trabajo/oferta-de-trabajo-de-developer-salesforce-apex-en-santiago-las-condes-35B79AC7F78870A561373E686DCF3405\n",
      "https://cl.computrabajo.com/ofertas-de-trabajo/oferta-de-trabajo-de-programador-despachador-arica-en-arica-5BB1830633EFD32861373E686DCF3405\n",
      "https://cl.computrabajo.com/ofertas-de-trabajo/oferta-de-trabajo-de-desarrollador-mobile-android-contrato-indefinido-en-santiago-centro-0C3DE36BD78D671A61373E686DCF3405\n",
      "https://cl.computrabajo.com/ofertas-de-trabajo/oferta-de-trabajo-de-desarrollador-fullstack-area-de-seguros-en-santiago-las-condes-FDE2375F6E6C6D3B61373E686DCF3405\n",
      "https://cl.computrabajo.com/ofertas-de-trabajo/oferta-de-trabajo-de-programador-en-mejillones-F4B6EDAA0AB6D1DF61373E686DCF3405\n",
      "https://cl.computrabajo.com/ofertas-de-trabajo/oferta-de-trabajo-de-programador-frontend-ionic-en-santiago-centro-D533E977A48794F561373E686DCF3405\n",
      "https://cl.computrabajo.com/ofertas-de-trabajo/oferta-de-trabajo-de-api-restful-devops-desarrollador-fullstack-senior-en-santiago-vitacura-DABB3448A520C92861373E686DCF3405\n",
      "https://cl.computrabajo.com/ofertas-de-trabajo/oferta-de-trabajo-de-desarrollador-javascriptnodejs-modalidad-hibrida-en-santiago-providencia-645F49EBEB41222C61373E686DCF3405\n",
      "https://cl.computrabajo.com/ofertas-de-trabajo/oferta-de-trabajo-de-work-from-home-fullstack-node-nest-react-developer-ref-0111-en-concepcion-432ABB308BBC11A461373E686DCF3405\n",
      "https://cl.computrabajo.com/ofertas-de-trabajo/oferta-de-trabajo-de-desarrollador-frontend-ionic-en-santiago-centro-19BBC78EB50A394561373E686DCF3405\n",
      "https://cl.computrabajo.com/ofertas-de-trabajo/oferta-de-trabajo-de-desarrollador-full-stack-importante-empresa-en-santiago-vitacura-ABAEA713617066CA61373E686DCF3405\n",
      "https://cl.computrabajo.com/ofertas-de-trabajo/oferta-de-trabajo-de-trabajo-desde-casa-golang-developer-ref-0138-en-concepcion-A9061EFC6703B91061373E686DCF3405\n",
      "https://cl.computrabajo.com/ofertas-de-trabajo/oferta-de-trabajo-de-desarrollador-backend-node-gcp-go-en-santiago-providencia-37DE24B2D356CE3261373E686DCF3405\n",
      "https://cl.computrabajo.com/ofertas-de-trabajo/oferta-de-trabajo-de-desarrollador-frontend-react-native-remoto-en-santiago-lo-barnechea-AEE963883409FCC261373E686DCF3405\n",
      "https://cl.computrabajo.com/ofertas-de-trabajo/oferta-de-trabajo-de-dba-y-desarrollador-sql-senior-en-santiago-vitacura-690C406649A7CE3061373E686DCF3405\n",
      "https://cl.computrabajo.com/ofertas-de-trabajo/oferta-de-trabajo-de-desarrollador-backend-nodejs-goland-y-gcp-hibrido-en-santiago-providencia-4247F0F9D455D0DB61373E686DCF3405\n",
      "https://cl.computrabajo.com/ofertas-de-trabajo/oferta-de-trabajo-de-desarrollador-full-stack-en-santiago-providencia-3C780E67D2F75AE361373E686DCF3405\n",
      "https://cl.computrabajo.com/ofertas-de-trabajo/oferta-de-trabajo-de-desarrollador-full-stack-importante-empresa-en-santiago-vitacura-3128496DF9235D0561373E686DCF3405\n",
      "https://cl.computrabajo.com/ofertas-de-trabajo/oferta-de-trabajo-de-work-from-home-java-backend-developer-ref-0003-en-concepcion-F202581C906C81AF61373E686DCF3405\n",
      "https://cl.computrabajo.com/ofertas-de-trabajo/oferta-de-trabajo-de-desarrollador-backend-node-gcp-go-en-santiago-providencia-1F2291BC496E556261373E686DCF3405\n",
      "https://cl.computrabajo.com/ofertas-de-trabajo/oferta-de-trabajo-de-programador-frontend-ionic-en-santiago-centro-E801774AB3EC9C3461373E686DCF3405\n",
      "https://cl.computrabajo.com/ofertas-de-trabajo/oferta-de-trabajo-de-desarrollador-plsql-proyecto-en-santiago-centro-8A4924EAC4CF537B61373E686DCF3405\n",
      "https://cl.computrabajo.com/ofertas-de-trabajo/oferta-de-trabajo-de-programador-frontend-ionic-contrato-indefinido-en-santiago-centro-7C53CEE61C69ECD361373E686DCF3405\n",
      "https://cl.computrabajo.com/ofertas-de-trabajo/oferta-de-trabajo-de-work-from-home-junior-developer-python-ref-0071-en-concepcion-8099BF5F21DB1E3561373E686DCF3405\n",
      "https://cl.computrabajo.com/ofertas-de-trabajo/oferta-de-trabajo-de-desarrollador-plsql-proyecto-en-santiago-centro-A468F1BC21B54E9B61373E686DCF3405\n",
      "https://cl.computrabajo.com/ofertas-de-trabajo/oferta-de-trabajo-de-administrador-bases-datos-y-desarrollador-sql-senior-en-santiago-vitacura-48098DDB5CE15EDE61373E686DCF3405\n",
      "https://cl.computrabajo.com/ofertas-de-trabajo/oferta-de-trabajo-de-work-from-home-junior-frontend-developer-ref-0054-en-concepcion-C1DE1EDF0AFEB10261373E686DCF3405\n",
      "https://cl.computrabajo.com/ofertas-de-trabajo/oferta-de-trabajo-de-desarrollador-fullstack-api-restful-devops-senior-en-santiago-vitacura-510BCDDD1E79656361373E686DCF3405\n",
      "https://cl.computrabajo.com/ofertas-de-trabajo/oferta-de-trabajo-de-programador-ionic-frontend-en-santiago-centro-9FBB7760EBB0FCEC61373E686DCF3405\n",
      "https://cl.computrabajo.com/ofertas-de-trabajo/oferta-de-trabajo-de-desarrollador-plsql-hibrido-en-santiago-centro-19AE5A318E5662A461373E686DCF3405\n",
      "https://cl.computrabajo.com/ofertas-de-trabajo/oferta-de-trabajo-de-programador-frontend-ionic-contrato-indefinido-en-santiago-centro-0727FB998067F01061373E686DCF3405\n",
      "https://cl.computrabajo.com/ofertas-de-trabajo/oferta-de-trabajo-de-administrador-de-bases-de-datos-sql-developer-senior-en-santiago-vitacura-E43FB99CDEE0F37E61373E686DCF3405\n",
      "https://cl.computrabajo.com/ofertas-de-trabajo/oferta-de-trabajo-de-work-from-home-junior-javascript-developer-ref-0289-en-concepcion-86E0ADE7063B8DE861373E686DCF3405\n",
      "https://cl.computrabajo.com/ofertas-de-trabajo/oferta-de-trabajo-de-programador-de-taller-lo-boza-pudahuel-en-santiago-pudahuel-E606CECCB142156B61373E686DCF3405\n",
      "https://cl.computrabajo.com/ofertas-de-trabajo/oferta-de-trabajo-de-desarrollador-backend-hibrido-en-santiago-providencia-49175E70EB0B2CE261373E686DCF3405\n",
      "https://cl.computrabajo.com/ofertas-de-trabajo/oferta-de-trabajo-de-desarrollador-api-rest-full-y-devops-fullstack-senior-en-santiago-vitacura-D5C0E27116B7E46A61373E686DCF3405\n",
      "https://cl.computrabajo.com/ofertas-de-trabajo/oferta-de-trabajo-de-trabajo-desde-casa-desarrollador-node-backend-ref-0111-en-concepcion-01A9FB1E0CEF81F361373E686DCF3405\n",
      "https://cl.computrabajo.com/ofertas-de-trabajo/oferta-de-trabajo-de-desarrollador-senior-en-santiago-las-condes-DFF16DF74010830C61373E686DCF3405\n",
      "https://cl.computrabajo.com/ofertas-de-trabajo/oferta-de-trabajo-de-desarrollador-frontend-reactjs-home-office-en-santiago-lo-barnechea-F176561F7D1F263061373E686DCF3405\n",
      "https://cl.computrabajo.com/ofertas-de-trabajo/oferta-de-trabajo-de-desarrollador-frontend-reactjs-home-office-en-santiago-lo-barnechea-EFD2E478BD39ACEF61373E686DCF3405\n",
      "https://cl.computrabajo.com/ofertas-de-trabajo/oferta-de-trabajo-de-prospector-de-nuevos-clientes-desarrollador-de-proyectos-construccion-huechuraba-en-santiago-huechuraba-3641F2BEB9EF541661373E686DCF3405\n"
     ]
    }
   ],
   "source": [
    "# Create the DataFrame\n",
    "data = []\n",
    "\n",
    "for link in all_links:\n",
    "    job_data = extract_data(link)\n",
    "    data.append(job_data)\n",
    "    print(link)\n",
    "    time.sleep(randint(1027852,2027852)/1000000)\n",
    "\n",
    "df = pd.DataFrame(data)"
   ]
  },
  {
   "cell_type": "markdown",
   "id": "eb068773-ecc7-4ffc-a628-765a187f2d1f",
   "metadata": {},
   "source": [
    "## Resultados"
   ]
  },
  {
   "cell_type": "code",
   "execution_count": null,
   "id": "9b54b99c-4019-4aae-832f-a8f828060adc",
   "metadata": {},
   "outputs": [],
   "source": [
    "# Show the DataFrame\n",
    "print(df)"
   ]
  },
  {
   "cell_type": "code",
   "execution_count": 67,
   "id": "0a86fec0-a60d-456f-85b3-4bdfe04d2424",
   "metadata": {},
   "outputs": [],
   "source": [
    "# Save the results to a CSV file\n",
    "df.to_csv(\"../data/computrabajo/computrabajo.csv\", index=False)\n",
    "\n",
    "# Close the browser\n",
    "driver.quit()"
   ]
  },
  {
   "cell_type": "code",
   "execution_count": null,
   "id": "cb656224-3281-4651-8335-1111fc7e5a6c",
   "metadata": {},
   "outputs": [],
   "source": []
  }
 ],
 "metadata": {
  "kernelspec": {
   "display_name": "ccpy",
   "language": "python",
   "name": "ccpy"
  },
  "language_info": {
   "codemirror_mode": {
    "name": "ipython",
    "version": 3
   },
   "file_extension": ".py",
   "mimetype": "text/x-python",
   "name": "python",
   "nbconvert_exporter": "python",
   "pygments_lexer": "ipython3",
   "version": "3.13.2"
  }
 },
 "nbformat": 4,
 "nbformat_minor": 5
}
